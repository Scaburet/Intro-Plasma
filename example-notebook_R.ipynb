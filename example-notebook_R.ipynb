{
 "cells": [
  {
   "cell_type": "markdown",
   "metadata": {},
   "source": [
    "# Examples with various libraries"
   ]
  },
  {
   "cell_type": "markdown",
   "metadata": {},
   "source": [
    "This is an example of Jupyter notebook running in R.  "
   ]
  },
  {
   "cell_type": "markdown",
   "metadata": {},
   "source": [
    "## ggplot2\n",
    "\n",
    "*ggplot2* is a very widely use R library for graphics.  \n",
    "Here a pre-built data frame is used: mtcars.  \n",
    "Example from https://www.statmethods.net/advgraphs/ggplot2.html"
   ]
  },
  {
   "cell_type": "code",
   "execution_count": null,
   "metadata": {},
   "outputs": [],
   "source": [
    "library(ggplot2) "
   ]
  },
  {
   "cell_type": "code",
   "execution_count": null,
   "metadata": {},
   "outputs": [],
   "source": [
    "mtcars"
   ]
  },
  {
   "cell_type": "code",
   "execution_count": null,
   "metadata": {},
   "outputs": [],
   "source": [
    "# create factors with value labels\n",
    "mtcars$gear <- factor(mtcars$gear,levels=c(3,4,5),labels=c(\"3gears\",\"4gears\",\"5gears\"))\n",
    "mtcars$am <- factor(mtcars$am,levels=c(0,1), labels=c(\"Automatic\",\"Manual\"))\n",
    "mtcars$cyl <- factor(mtcars$cyl,levels=c(4,6,8),  labels=c(\"4cyl\",\"6cyl\",\"8cyl\")) "
   ]
  },
  {
   "cell_type": "code",
   "execution_count": null,
   "metadata": {},
   "outputs": [],
   "source": [
    "mtcars$gear"
   ]
  },
  {
   "cell_type": "code",
   "execution_count": null,
   "metadata": {},
   "outputs": [],
   "source": [
    "# Kernel density plots for mpg\n",
    "# grouped by number of gears (indicated by color)\n",
    "qplot(mpg, data=mtcars, geom=\"density\", fill=gear, alpha=I(.5), \n",
    "   main=\"Distribution of Gas Milage\", xlab=\"Miles Per Gallon\", \n",
    "   ylab=\"Density\"\n",
    ")\n",
    "\n",
    "# Save figure\n",
    "ggsave(\"distribution.png\", dpi=200)"
   ]
  },
  {
   "cell_type": "markdown",
   "metadata": {},
   "source": [
    "# Bioconductor Biostrings\n",
    "\n",
    "https://bioconductor.org/packages/release/bioc/html/Biostrings.html"
   ]
  },
  {
   "cell_type": "code",
   "execution_count": null,
   "metadata": {},
   "outputs": [],
   "source": [
    "library(Biostrings)"
   ]
  },
  {
   "cell_type": "code",
   "execution_count": null,
   "metadata": {},
   "outputs": [],
   "source": [
    "# Create random DNA sequence of 10 nucléotides\n",
    "\n",
    "seq = sample(DNA_ALPHABET[1:4], size=10, replace=TRUE)\n",
    "seq = paste(seq, collapse=\"\")\n",
    "seq"
   ]
  },
  {
   "cell_type": "markdown",
   "metadata": {},
   "source": [
    "# Diagram\n",
    "\n",
    "https://cran.r-project.org/web/packages/diagram/index.html"
   ]
  },
  {
   "cell_type": "code",
   "execution_count": null,
   "metadata": {},
   "outputs": [],
   "source": [
    "library(diagram)"
   ]
  },
  {
   "cell_type": "code",
   "execution_count": null,
   "metadata": {},
   "outputs": [],
   "source": [
    "example(plotweb)"
   ]
  },
  {
   "cell_type": "markdown",
   "metadata": {},
   "source": [
    "# Session info"
   ]
  },
  {
   "cell_type": "code",
   "execution_count": null,
   "metadata": {},
   "outputs": [],
   "source": [
    "sessionInfo()"
   ]
  },
  {
   "cell_type": "code",
   "execution_count": null,
   "metadata": {},
   "outputs": [],
   "source": []
  },
  {
   "cell_type": "code",
   "execution_count": null,
   "metadata": {},
   "outputs": [],
   "source": []
  }
 ],
 "metadata": {
  "kernelspec": {
   "display_name": "R",
   "language": "R",
   "name": "ir"
  },
  "language_info": {
   "codemirror_mode": "r",
   "file_extension": ".r",
   "mimetype": "text/x-r-source",
   "name": "R",
   "pygments_lexer": "r",
   "version": "4.0.5"
  }
 },
 "nbformat": 4,
 "nbformat_minor": 4
}
